{
  "cells": [
    {
      "cell_type": "code",
      "execution_count": null,
      "metadata": {
        "colab": {
          "base_uri": "https://localhost:8080/"
        },
        "id": "zalyGFDrMksg",
        "outputId": "a65cfe86-f1c4-4c56-aa27-acc094ba436b"
      },
      "outputs": [
        {
          "output_type": "stream",
          "name": "stdout",
          "text": [
            "Collecting gdstk\n",
            "  Downloading gdstk-0.9.59-cp311-cp311-manylinux_2_28_x86_64.whl.metadata (8.7 kB)\n",
            "Requirement already satisfied: matplotlib in /usr/local/lib/python3.11/dist-packages (3.10.0)\n",
            "Requirement already satisfied: numpy in /usr/local/lib/python3.11/dist-packages (from gdstk) (1.26.4)\n",
            "Requirement already satisfied: contourpy>=1.0.1 in /usr/local/lib/python3.11/dist-packages (from matplotlib) (1.3.1)\n",
            "Requirement already satisfied: cycler>=0.10 in /usr/local/lib/python3.11/dist-packages (from matplotlib) (0.12.1)\n",
            "Requirement already satisfied: fonttools>=4.22.0 in /usr/local/lib/python3.11/dist-packages (from matplotlib) (4.56.0)\n",
            "Requirement already satisfied: kiwisolver>=1.3.1 in /usr/local/lib/python3.11/dist-packages (from matplotlib) (1.4.8)\n",
            "Requirement already satisfied: packaging>=20.0 in /usr/local/lib/python3.11/dist-packages (from matplotlib) (24.2)\n",
            "Requirement already satisfied: pillow>=8 in /usr/local/lib/python3.11/dist-packages (from matplotlib) (11.1.0)\n",
            "Requirement already satisfied: pyparsing>=2.3.1 in /usr/local/lib/python3.11/dist-packages (from matplotlib) (3.2.1)\n",
            "Requirement already satisfied: python-dateutil>=2.7 in /usr/local/lib/python3.11/dist-packages (from matplotlib) (2.8.2)\n",
            "Requirement already satisfied: six>=1.5 in /usr/local/lib/python3.11/dist-packages (from python-dateutil>=2.7->matplotlib) (1.17.0)\n",
            "Downloading gdstk-0.9.59-cp311-cp311-manylinux_2_28_x86_64.whl (534 kB)\n",
            "\u001b[2K   \u001b[90m━━━━━━━━━━━━━━━━━━━━━━━━━━━━━━━━━━━━━━━━\u001b[0m \u001b[32m534.2/534.2 kB\u001b[0m \u001b[31m2.6 MB/s\u001b[0m eta \u001b[36m0:00:00\u001b[0m\n",
            "\u001b[?25hInstalling collected packages: gdstk\n",
            "Successfully installed gdstk-0.9.59\n",
            "Collecting phidl\n",
            "  Downloading phidl-1.7.2.tar.gz (109 kB)\n",
            "\u001b[2K     \u001b[90m━━━━━━━━━━━━━━━━━━━━━━━━━━━━━━━━━━━━━━━━\u001b[0m \u001b[32m109.4/109.4 kB\u001b[0m \u001b[31m4.0 MB/s\u001b[0m eta \u001b[36m0:00:00\u001b[0m\n",
            "\u001b[?25h  Preparing metadata (setup.py) ... \u001b[?25l\u001b[?25hdone\n",
            "Collecting gdspy>=1.5 (from phidl)\n",
            "  Downloading gdspy-1.6.13.zip (157 kB)\n",
            "\u001b[2K     \u001b[90m━━━━━━━━━━━━━━━━━━━━━━━━━━━━━━━━━━━━━━━━\u001b[0m \u001b[32m157.9/157.9 kB\u001b[0m \u001b[31m9.3 MB/s\u001b[0m eta \u001b[36m0:00:00\u001b[0m\n",
            "\u001b[?25h  Preparing metadata (setup.py) ... \u001b[?25l\u001b[?25hdone\n",
            "Requirement already satisfied: numpy in /usr/local/lib/python3.11/dist-packages (from phidl) (1.26.4)\n",
            "Requirement already satisfied: matplotlib in /usr/local/lib/python3.11/dist-packages (from phidl) (3.10.0)\n",
            "Requirement already satisfied: contourpy>=1.0.1 in /usr/local/lib/python3.11/dist-packages (from matplotlib->phidl) (1.3.1)\n",
            "Requirement already satisfied: cycler>=0.10 in /usr/local/lib/python3.11/dist-packages (from matplotlib->phidl) (0.12.1)\n",
            "Requirement already satisfied: fonttools>=4.22.0 in /usr/local/lib/python3.11/dist-packages (from matplotlib->phidl) (4.56.0)\n",
            "Requirement already satisfied: kiwisolver>=1.3.1 in /usr/local/lib/python3.11/dist-packages (from matplotlib->phidl) (1.4.8)\n",
            "Requirement already satisfied: packaging>=20.0 in /usr/local/lib/python3.11/dist-packages (from matplotlib->phidl) (24.2)\n",
            "Requirement already satisfied: pillow>=8 in /usr/local/lib/python3.11/dist-packages (from matplotlib->phidl) (11.1.0)\n",
            "Requirement already satisfied: pyparsing>=2.3.1 in /usr/local/lib/python3.11/dist-packages (from matplotlib->phidl) (3.2.1)\n",
            "Requirement already satisfied: python-dateutil>=2.7 in /usr/local/lib/python3.11/dist-packages (from matplotlib->phidl) (2.8.2)\n",
            "Requirement already satisfied: six>=1.5 in /usr/local/lib/python3.11/dist-packages (from python-dateutil>=2.7->matplotlib->phidl) (1.17.0)\n",
            "Building wheels for collected packages: phidl, gdspy\n",
            "  Building wheel for phidl (setup.py) ... \u001b[?25l\u001b[?25hdone\n",
            "  Created wheel for phidl: filename=phidl-1.7.2-py3-none-any.whl size=100721 sha256=ab1c3ac45f6ad5eedc8315137a76149859a15bacc834d4f628532cd7c4be95e5\n",
            "  Stored in directory: /root/.cache/pip/wheels/53/98/c6/a56fa2067a87220775fc37e23721a905ec39d5b8d8c05281f7\n",
            "  Building wheel for gdspy (setup.py) ... \u001b[?25l\u001b[?25hdone\n",
            "  Created wheel for gdspy: filename=gdspy-1.6.13-cp311-cp311-linux_x86_64.whl size=595437 sha256=e4a620708661a4fd41bd058f9430350f55dac3e3741ba638d69a0959704c146c\n",
            "  Stored in directory: /root/.cache/pip/wheels/f0/7b/06/6515cfd23876a3b41fb7db9bba74e818f18f0db7f991d63e6d\n",
            "Successfully built phidl gdspy\n",
            "Installing collected packages: gdspy, phidl\n",
            "Successfully installed gdspy-1.6.13 phidl-1.7.2\n"
          ]
        }
      ],
      "source": [
        "!pip install gdstk matplotlib\n",
        "!pip install -U phidl"
      ]
    },
    {
      "cell_type": "code",
      "execution_count": null,
      "metadata": {
        "id": "BU6o85kHMqSq"
      },
      "outputs": [],
      "source": [
        "from phidl import Device\n",
        "from phidl import quickplot as qp # Rename \"quickplot()\" to the easier \"qp()\"\n",
        "import phidl.geometry as pg\n",
        "import phidl.routing as pr\n",
        "import phidl.device_layout as pd\n",
        "\n",
        "import os\n",
        "import numpy as np\n",
        "\n",
        "import gdstk\n",
        "import matplotlib.pyplot as plt\n",
        "\n",
        "import gdspy\n",
        "\n",
        "\n",
        "layers_dict = {\n",
        "        \"via\": (1, 0),\n",
        "        \"metal\": (2, 0),\n",
        "        \"poly\": (3, 0),\n",
        "        \"contact\": (4, 0),\n",
        "        \"n+\": (5, 0),\n",
        "        \"p+\": (6, 0),\n",
        "        \"nwell\": (7, 0)\n",
        "    }\n"
      ]
    },
    {
      "cell_type": "code",
      "execution_count": null,
      "metadata": {
        "id": "Ir9NCTLCNJTG",
        "colab": {
          "base_uri": "https://localhost:8080/",
          "height": 447
        },
        "outputId": "7358852d-340f-4a65-90dd-547e21c7081c"
      },
      "outputs": [
        {
          "output_type": "stream",
          "name": "stderr",
          "text": [
            "WARNING:matplotlib.axes._base:Ignoring fixed y limits to fulfill fixed data aspect with adjustable data limits.\n"
          ]
        },
        {
          "output_type": "display_data",
          "data": {
            "text/plain": [
              "<Figure size 640x480 with 1 Axes>"
            ],
            "image/png": "[encoded data removed]"
          },
          "metadata": {}
        }
      ],
      "source": [
        "def generate_template():\n",
        "    \"\"\"\n",
        "    Generates a mask template with crosses at the four corners.\n",
        "    \"\"\"\n",
        "    size=(992, 558)\n",
        "\n",
        "    mask = Device()\n",
        "    cross_width = 80\n",
        "    cross_length = 50\n",
        "    line_width = 10\n",
        "    margin = 5\n",
        "\n",
        "    # Define corner positions\n",
        "    positions = [\n",
        "        (margin, margin),  # Bottom-left\n",
        "        (size[0]-cross_width-margin, margin),  # Bottom-right\n",
        "        (margin, size[1]-cross_length-margin),  # Top-left\n",
        "        (size[0]-cross_width-margin, size[1]-cross_length-margin)  # Top-right\n",
        "    ]\n",
        "\n",
        "    # Generate asymmetric crosses at each corner\n",
        "    for x, y in positions:\n",
        "      for i in range(6):\n",
        "        horizontal = mask.add_ref(pg.rectangle(size=(cross_width, line_width),layer=(i, 0)))\n",
        "        horizontal.move((x, y + (cross_length - line_width)/2))\n",
        "        vert = mask.add_ref(pg.rectangle(size=(line_width, cross_length),layer=(i, 0)))\n",
        "        vert.move((x + (cross_width-line_width)/3, y))\n",
        "\n",
        "    return mask\n",
        "\n",
        "mask = generate_template()\n",
        "qp(mask)"
      ]
    },
    {
      "cell_type": "code",
      "execution_count": null,
      "metadata": {
        "id": "lEt5jETsR_aA"
      },
      "outputs": [],
      "source": [
        "def add_mosfet(mask, channel_length = 10, channel_width = 80, diff= 50, position=(0,0), type = \"NMOS\"):\n",
        "\n",
        "  gate_dimensions = (channel_length, channel_width + 10)\n",
        "  diff_dimensions = (diff * 2 + channel_length, channel_width)\n",
        "  pad_size = (24, 24)\n",
        "  contact_size = 10 # CAN BE ADJUSTED\n",
        "\n",
        "  diff_layer = \"n+\"\n",
        "  if (type == \"PMOS\"):\n",
        "    diff_layer = \"p+\"\n",
        "\n",
        "  G = Device(\"gate\")\n",
        "  G_gate = G.add_ref(pg.rectangle(size = (gate_dimensions), layer = layers_dict[\"poly\"]))\n",
        "  G_gate.move(((2*contact_size-gate_dimensions[0])/2, 2*contact_size))\n",
        "  G_via_p = G.add_ref(pg.rectangle(size = (2*contact_size, 2*contact_size), layer = layers_dict[\"poly\"]))\n",
        "  G_via_m = G.add_ref(pg.rectangle(size = (contact_size, contact_size), layer = layers_dict[\"via\"]))\n",
        "  G_via_m.move((contact_size/2, contact_size/2))\n",
        "  G_contact = G.add_ref(pg.rectangle(size = pad_size, layer = layers_dict[\"metal\"]))\n",
        "  G_contact.move((contact_size-pad_size[0]/2, contact_size*1.75-pad_size[1]))\n",
        "\n",
        "  D = Device(\"diffusion\")\n",
        "  D.diff = D.add_ref(pg.rectangle(size = (diff_dimensions[0], diff_dimensions[1]), layer = layers_dict[diff_layer]))\n",
        "  via_y = (diff_dimensions[1] - contact_size) / 2\n",
        "  contact_y = via_y - 2\n",
        "  drain_width = diff_dimensions[0]/2 - gate_dimensions[0]/2\n",
        "  D.contact_1 = D.add_ref(pg.rectangle(size = pad_size, layer = layers_dict[\"metal\"]))\n",
        "  D.contact_1.move(((drain_width-pad_size[0])/2, contact_y))\n",
        "  D.contact_2 = D.add_ref(pg.rectangle(size = pad_size, layer = layers_dict[\"metal\"]))\n",
        "  D.contact_2.move((diff_dimensions[0]/2 + drain_width/2  + gate_dimensions[0]/2 - (pad_size[0]/2), contact_y))\n",
        "  D.via_1 = D.add_ref(pg.rectangle(size = (contact_size, contact_size), layer = layers_dict[\"via\"]))\n",
        "  D.via_1.move(((drain_width-contact_size)/2 , via_y))\n",
        "  D.via_2 = D.add_ref(pg.rectangle(size = (contact_size, contact_size), layer = layers_dict[\"via\"]))\n",
        "  D.via_2.move((diff_dimensions[0]/2 + drain_width/2  + gate_dimensions[0]/2 - (contact_size/2), via_y))\n",
        "\n",
        "  MOSFET = Device()\n",
        "  Gate = MOSFET.add_ref(G)\n",
        "  Diffusion = MOSFET.add_ref(D)\n",
        "  Diffusion.move(((contact_size * 2 -diff_dimensions[0])/2, contact_size * 2 + (gate_dimensions[1] - diff_dimensions[1])/2))\n",
        "\n",
        "  mos = mask.add_ref(MOSFET)\n",
        "  mos.move(position)\n",
        "  return mos\n"
      ]
    },
    {
      "cell_type": "code",
      "execution_count": null,
      "metadata": {
        "id": "TeLDGFFUhYK6"
      },
      "outputs": [],
      "source": [
        "def add_rectangle(mask, width, length, position = (0,0), layer = \"metal\"):\n",
        "  # mask is the current Device used for the mask\n",
        "  # width is the width of the rectangle in um\n",
        "  # length is the length of the rectangle in um\n",
        "  # position is the coordinates of the bottom left corner of the rectangle in um\n",
        "  # layer is the layer of the rectangle\n",
        "\n",
        "  # returns the mask\n",
        "\n",
        "  rect = mask.add_ref(pg.rectangle(size=(width,length),layer=layers_dict[layer]))\n",
        "  rect.move(position)\n",
        "\n",
        "  return rect"
      ]
    },
    {
      "cell_type": "code",
      "execution_count": null,
      "metadata": {
        "id": "Ms9blxG6Vhf2"
      },
      "outputs": [],
      "source": [
        "def gds_to_png(gds_filename, output_prefix, dpi=300, layers = [\"metal\"], fill_color='black', bg_color='white'):\n",
        "    # Load GDS file\n",
        "    lib = gdspy.GdsLibrary(infile=gds_filename)\n",
        "\n",
        "    # Define the unit count to be 80x45\n",
        "    unit_width = 992\n",
        "    unit_height = 558\n",
        "\n",
        "    color1 = fill_color\n",
        "    color2 = bg_color\n",
        "\n",
        "    for layer_name in layers:\n",
        "        layer = layers_dict[layer_name]\n",
        "        # Create a matplotlib figure with 16:9 aspect ratio\n",
        "        fig, ax = plt.subplots(figsize=(16, 9))\n",
        "        if (layer == (3, 0)) :\n",
        "          color1 = bg_color\n",
        "          color2 = fill_color\n",
        "        else:\n",
        "          color1 = fill_color\n",
        "          color2 = bg_color\n",
        "        # Set background color\n",
        "        fig.patch.set_facecolor(color2)\n",
        "        ax.set_facecolor(color2)\n",
        "\n",
        "        # Get all cells in the GDS file\n",
        "        for cell in lib.top_level():\n",
        "            polygons = cell.get_polygons(by_spec=True)\n",
        "            if isinstance(polygons, dict):  # Older versions of gdspy\n",
        "                for (lyr, datatype), polys in polygons.items():\n",
        "                    if (lyr, datatype) == layer:\n",
        "                        for poly in polys:\n",
        "                            ax.fill(*zip(*poly), color=color1)\n",
        "            elif isinstance(polygons, list):  # Newer versions return a list of tuples\n",
        "                for poly, lyr, datatype in polygons:\n",
        "                    if (lyr, datatype) == layer:\n",
        "                        ax.fill(*zip(*poly), color=color1)\n",
        "\n",
        "        # Set the limits to match the required unit count\n",
        "        ax.set_xlim(0, unit_width)\n",
        "        ax.set_ylim(0, unit_height)\n",
        "\n",
        "        ax.set_aspect('equal')\n",
        "        ax.axis('off')\n",
        "\n",
        "        # Save the figure as a PNG with specified background\n",
        "        png_filename = f\"{output_prefix}_layer_{layer_name}.png\"\n",
        "        plt.savefig(png_filename, dpi=dpi, bbox_inches='tight', pad_inches=0, facecolor=color2)\n",
        "        plt.close()\n",
        "\n",
        "        print(f\"Saved {png_filename}\")\n"
      ]
    },
    {
      "cell_type": "code",
      "execution_count": null,
      "metadata": {
        "id": "Oha2M-2Hs4A1"
      },
      "outputs": [],
      "source": [
        "def mask_to_png(mask, filename, layers = [(1,0)]):\n",
        "  mask.write_gds(f\"{filename}.gds\")\n",
        "\n",
        "  gds_to_png(f\"{filename}.gds\", f\"{filename}_uv.jpg\", fill_color = 'blue', bg_color='black', layers = layers)\n",
        "  gds_to_png(f\"{filename}.gds\", f\"{filename}_red.jpg\", fill_color = 'red', bg_color='black', layers = layers)\n"
      ]
    },
    {
      "cell_type": "code",
      "execution_count": null,
      "metadata": {
        "id": "eEgfQ-GNhbMi"
      },
      "outputs": [],
      "source": [
        "def add_resistor(mask, segments = 1, seg_width = 50, seg_length = 300, position = (0,0), separation = 30, contact_length = 50):\n",
        "  # Generates resistor with parametrized number of segments and size of segments.\n",
        "\n",
        "  resistor = Device()\n",
        "  curr_pos = (0,0)\n",
        "  top = 0\n",
        "  for i in range(segments):\n",
        "    top = not(top)\n",
        "    if (i == 0):\n",
        "      add_rectangle(resistor, seg_width, contact_length, curr_pos, layer = \"metal\")\n",
        "    connect_y = curr_pos[1]\n",
        "    if (top): connect_y = curr_pos[1] + (seg_length - seg_width)\n",
        "    add_rectangle(resistor, seg_width, seg_length, curr_pos, layer = \"n+\")\n",
        "    if (i != segments - 1):\n",
        "      add_rectangle(resistor, separation + 5, seg_width, (curr_pos[0] + seg_width-2, connect_y), layer = \"n+\")\n",
        "    else:\n",
        "      if (top): connect_y = connect_y + (seg_width - contact_length)\n",
        "      add_rectangle(resistor, seg_width, contact_length, (curr_pos[0], connect_y), layer = \"metal\")\n",
        "    curr_pos = (curr_pos[0] + seg_width + separation, curr_pos[1])\n",
        "\n",
        "  res = mask.add_ref(resistor)\n",
        "  res.move(position)\n",
        "\n",
        "  return res"
      ]
    }
  ],
  "metadata": {
    "colab": {
      "provenance": []
    },
    "kernelspec": {
      "display_name": "Python 3",
      "name": "python3"
    },
    "language_info": {
      "name": "python"
    }
  },
  "nbformat": 4,
  "nbformat_minor": 0
}